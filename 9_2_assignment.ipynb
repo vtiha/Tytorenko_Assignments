{
  "cells": [
    {
      "cell_type": "markdown",
      "metadata": {
        "id": "view-in-github",
        "colab_type": "text"
      },
      "source": [
        "<a href=\"https://colab.research.google.com/github/vtiha/Tytorenko_Assignments/blob/main/9_2_assignment.ipynb\" target=\"_parent\"><img src=\"https://colab.research.google.com/assets/colab-badge.svg\" alt=\"Open In Colab\"/></a>"
      ]
    },
    {
      "cell_type": "markdown",
      "metadata": {
        "id": "oY7M_WqQy7zz"
      },
      "source": [
        "# Assignment 9.2\n",
        "\n",
        "> Replace all TODOs with your code. Do not change any other code."
      ]
    },
    {
      "cell_type": "code",
      "execution_count": 2,
      "metadata": {
        "id": "mnm_mM7I9Xx0"
      },
      "outputs": [],
      "source": [
        "# Do not edit this cell\n",
        "\n",
        "from typing import List"
      ]
    },
    {
      "cell_type": "markdown",
      "metadata": {
        "id": "Jz8SYjAz0N8D"
      },
      "source": [
        "## Descriptive statistics\n",
        "\n",
        "In this assignment, we will write the functions to calculate the basic statistics from scratch, not using numpy."
      ]
    },
    {
      "cell_type": "markdown",
      "metadata": {
        "id": "IHwd1Zzby7z1"
      },
      "source": [
        "### Task 1\n",
        "\n",
        "Let's start simple: write a function `mean` that calculates the average of the list.\n",
        "\n",
        "$$\\mu = \\frac{{\\sum_{i=1}^n x_i}}{{n}}$$"
      ]
    },
    {
      "cell_type": "code",
      "execution_count": 5,
      "metadata": {
        "id": "UfB0dnXHy7z2",
        "tags": [
          "task_1"
        ]
      },
      "outputs": [],
      "source": [
        "def mean(li: List[float]) -> float:\n",
        "    return sum(li) / len(li)\n",
        "\n",
        "\n",
        "assert mean([1., 2., 3.]) == 2.\n",
        "assert mean([1., 1., 2., 0.]) == 1."
      ]
    },
    {
      "cell_type": "markdown",
      "metadata": {
        "id": "lL-ELM-Ay7z2"
      },
      "source": [
        "### Task 2\n",
        "\n",
        "Now let's calculate variance (dispersion). You may use the `mean` function implemented before.\n",
        "\n",
        "$$V = \\frac{{\\sum_{i=1}^n (x_i - \\mu)^2}}{{n}}$$"
      ]
    },
    {
      "cell_type": "code",
      "execution_count": 6,
      "metadata": {
        "id": "cibiSsjry7z3",
        "tags": [
          "task_2"
        ]
      },
      "outputs": [],
      "source": [
        "def variance(li: List[float]) -> float:\n",
        "    avg = mean(li)\n",
        "    return sum((x - avg) ** 2 for x in li) / len(li)\n",
        "\n",
        "assert variance([1., 1., 1.]) == 0.\n",
        "assert variance([1., 2., 3., 4.]) == 1.25"
      ]
    },
    {
      "cell_type": "markdown",
      "metadata": {
        "id": "YSAUJe1u9XyM"
      },
      "source": [
        "### Task 3\n",
        "\n",
        "The standard deviation is easy once you get the variance:\n",
        "\n",
        "$$\\sigma = \\sqrt{V}$$"
      ]
    },
    {
      "cell_type": "code",
      "execution_count": 8,
      "metadata": {
        "tags": [
          "task_3"
        ],
        "id": "8cr3iHPR9XyO"
      },
      "outputs": [],
      "source": [
        "def std(li: List[float]) -> float:\n",
        "    return (variance(li)) ** 0.5\n",
        "\n",
        "assert std([1., 1., 1.]) == 0.\n",
        "assert std([1., 2., 3., 4.]) == 1.25**0.5"
      ]
    },
    {
      "cell_type": "markdown",
      "metadata": {
        "id": "2I481Gkj9XyR"
      },
      "source": [
        "### Task 4\n",
        "\n",
        "**Median**\n",
        "\n",
        "The median is the middle value in a sorted dataset. If the dataset has an odd number of values, the median is the value at the center. If the dataset has an even number of values, the median is the average of the two middle values."
      ]
    },
    {
      "cell_type": "code",
      "execution_count": 10,
      "metadata": {
        "tags": [
          "task_4"
        ],
        "id": "0BEoTR119XyT"
      },
      "outputs": [],
      "source": [
        "def median(li: List[float]) -> float:\n",
        "    li_sorted = sorted(li)\n",
        "    n = len(li_sorted)\n",
        "\n",
        "    if n % 2 == 1:\n",
        "        return li_sorted[n // 2]\n",
        "    else:\n",
        "        return (li_sorted[n // 2 - 1] + li_sorted[n // 2]) / 2\n",
        "\n",
        "\n",
        "assert median([1., 1., 1.]) == 1.\n",
        "assert median([1., 4., 3., 2.]) == 2.5"
      ]
    },
    {
      "cell_type": "markdown",
      "metadata": {
        "id": "5DzFkKwx0VI5"
      },
      "source": [
        "## Measure performance\n",
        "\n",
        "Sometimes, apart from theoretical, algorithmic complexity, it's a good idea to compare the runtime of two algorithms empirically, i.e., run the code many times and time it.\n",
        "\n",
        "In Python's standard library, we have [timeit](https://docs.python.org/3/library/timeit.html) module that does exactly that.\n",
        "\n",
        "Let's compare the runtime of your implementations and numpy. Use the provided setup code:"
      ]
    },
    {
      "cell_type": "code",
      "execution_count": 17,
      "metadata": {
        "id": "wlNX3Jyz9XyV"
      },
      "outputs": [],
      "source": [
        "# generate data for tests\n",
        "setup = '''\n",
        "import random\n",
        "import numpy as np\n",
        "\n",
        "arr = np.random.rand(10_000) * 100\n",
        "li = [random.random() * 100 for _ in range(10_000)]\n",
        "'''\n",
        "\n",
        "# pass your function to timeit module\n",
        "funcs = {\n",
        "    'mean': mean,\n",
        "    'variance': variance,\n",
        "    'std': std,\n",
        "    'median': median,\n",
        "}"
      ]
    },
    {
      "cell_type": "markdown",
      "metadata": {
        "id": "nP0LlORsy7z4"
      },
      "source": [
        "### Task 5\n",
        "\n",
        "Complete Python statements to compare your functions to numpy. Use `li` for your function and `arr` for numpy functions."
      ]
    },
    {
      "cell_type": "code",
      "execution_count": 18,
      "metadata": {
        "id": "RiIm_kUSy7z4",
        "tags": [
          "task_5"
        ]
      },
      "outputs": [],
      "source": [
        "stmt_mean_custom = 'mean(li)'\n",
        "stmt_mean_np = 'np.mean(arr)'\n",
        "\n",
        "stmt_var_custom = 'variance(li)'\n",
        "stmt_var_np = 'np.var(arr)'\n",
        "\n",
        "stmt_std_custom = 'std(li)'\n",
        "stmt_std_np = 'np.std(arr)'\n",
        "\n",
        "stmt_median_custom = 'median(li)'\n",
        "stmt_median_np = 'np.median(arr)'"
      ]
    },
    {
      "cell_type": "markdown",
      "metadata": {
        "id": "hU1yDEnzy7z4"
      },
      "source": [
        "### Task 6\n",
        "\n",
        "Measure average exec time of your statements with `timeit` module. As your submission, fill out the table with results (rounded to 2 decimal places)"
      ]
    },
    {
      "cell_type": "code",
      "execution_count": 24,
      "metadata": {
        "id": "8sOSsdKiy7z4",
        "tags": [
          "task_6"
        ],
        "colab": {
          "base_uri": "https://localhost:8080/"
        },
        "outputId": "e7694af7-d29f-4daf-e429-c6de52e3e3b9"
      },
      "outputs": [
        {
          "output_type": "stream",
          "name": "stdout",
          "text": [
            "mean (custom): 0.48 secs\n",
            "mean (numpy): 0.09 secs\n",
            "variance (custom): 17.62 secs\n",
            "variance (numpy): 0.35 secs\n",
            "std (custom): 16.28 secs\n",
            "std (numpy): 0.35 secs\n",
            "median (custom): 16.50 secs\n",
            "median (numpy): 1.28 secs\n"
          ]
        }
      ],
      "source": [
        "import timeit\n",
        "\n",
        "\n",
        "mean_custom_time = timeit.timeit(stmt='mean(li)', setup=setup, globals=globals(), number=10_000)\n",
        "mean_np_time = timeit.timeit(stmt='np.mean(arr)', setup=setup, globals=globals(), number=10_000)\n",
        "\n",
        "var_custom_time = timeit.timeit(stmt='variance(li)', setup=setup, globals=globals(), number=10_000)\n",
        "var_np_time = timeit.timeit(stmt='np.var(arr)', setup=setup, globals=globals(), number=10_000)\n",
        "\n",
        "std_custom_time = timeit.timeit(stmt='std(li)', setup=setup, globals=globals(), number=10_000)\n",
        "std_np_time = timeit.timeit(stmt='np.std(arr)', setup=setup, globals=globals(), number=10_000)\n",
        "\n",
        "median_custom_time = timeit.timeit(stmt='median(li)', setup=setup, globals=globals(), number=10_000)\n",
        "median_np_time = timeit.timeit(stmt='np.median(arr)', setup=setup, globals=globals(), number=10_000)\n",
        "\n",
        "print(f\"mean (custom): {mean_custom_time:.2f} secs\")\n",
        "print(f\"mean (numpy): {mean_np_time:.2f} secs\")\n",
        "\n",
        "print(f\"variance (custom): {var_custom_time:.2f} secs\")\n",
        "print(f\"variance (numpy): {var_np_time:.2f} secs\")\n",
        "\n",
        "print(f\"std (custom): {std_custom_time:.2f} secs\")\n",
        "print(f\"std (numpy): {std_np_time:.2f} secs\")\n",
        "\n",
        "print(f\"median (custom): {median_custom_time:.2f} secs\")\n",
        "print(f\"median (numpy): {median_np_time:.2f} secs\")"
      ]
    },
    {
      "cell_type": "markdown",
      "metadata": {
        "id": "NbbRIcyqy7z4"
      },
      "source": [
        "Time per 10000 executions, secs\n",
        "\n",
        "| Func       | Custom | Numpy |\n",
        "| ---------- | ------ | ----- |\n",
        "| mean       |  0.48  | 0.09  |\n",
        "| var        | 17.62  | 0.35  |\n",
        "| std        | 16.28  | 0.35  |\n",
        "| median     | 16.50  | 1.28  |"
      ]
    }
  ],
  "metadata": {
    "colab": {
      "provenance": [],
      "include_colab_link": true
    },
    "kernelspec": {
      "display_name": "venv",
      "language": "python",
      "name": "python3"
    },
    "language_info": {
      "codemirror_mode": {
        "name": "ipython",
        "version": 3
      },
      "file_extension": ".py",
      "mimetype": "text/x-python",
      "name": "python",
      "nbconvert_exporter": "python",
      "pygments_lexer": "ipython3",
      "version": "3.9.6"
    },
    "orig_nbformat": 4
  },
  "nbformat": 4,
  "nbformat_minor": 0
}