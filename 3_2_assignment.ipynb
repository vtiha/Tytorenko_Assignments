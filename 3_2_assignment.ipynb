{
  "cells": [
    {
      "cell_type": "markdown",
      "metadata": {
        "id": "-89_Z_je0cfL"
      },
      "source": [
        "# Assignment 3.2\n",
        "\n",
        "> Replace all TODOs with your code.\n",
        ">\n",
        "> Do not change any other code and do not add/remove cells!"
      ]
    },
    {
      "cell_type": "markdown",
      "metadata": {
        "id": "w6E-GxTB0j4M"
      },
      "source": [
        "## Lists"
      ]
    },
    {
      "cell_type": "markdown",
      "metadata": {
        "id": "iEwuf_DP0cfM"
      },
      "source": [
        "### Task 1\n",
        "\n",
        "Let's recall the function `find_primes` from the previous assignment. Now, instead of printing the primes, let's append them to a list and return this list. Use for-loop for that.\n",
        "\n",
        "Function `is_prime` is given for your convenience."
      ]
    },
    {
      "cell_type": "code",
      "source": [
        "def is_prime(num):\n",
        "    if num == 1:\n",
        "        return False\n",
        "    if num <= 3:\n",
        "        return True\n",
        "\n",
        "    for d in range(2, int(num ** 0.5)+1):\n",
        "        if num % d == 0:\n",
        "            return False\n",
        "\n",
        "    return True"
      ],
      "metadata": {
        "id": "oHqrVITz6Hy9"
      },
      "execution_count": 24,
      "outputs": []
    },
    {
      "cell_type": "code",
      "execution_count": 17,
      "metadata": {
        "id": "IWVOCWxx0cfM",
        "tags": [
          "task_1"
        ],
        "outputId": "ba368029-0ed0-4257-e05e-af7656cd32d2",
        "colab": {
          "base_uri": "https://localhost:8080/"
        }
      },
      "outputs": [
        {
          "output_type": "stream",
          "name": "stdout",
          "text": [
            "[2, 3, 5, 7, 11]\n"
          ]
        }
      ],
      "source": [
        "def find_primes(a, b):\n",
        "\n",
        "  prime_list = []\n",
        "\n",
        "  for num in range(a, b+1):\n",
        "    if is_prime(num): prime_list.append(num) #цікаво, до речі, чи взагалі дозволено прописувати іфи отак\n",
        "  return prime_list\n",
        "\n",
        "print(find_primes(1, 11))  # should print [2, 3, 5, 7, 11]"
      ]
    },
    {
      "cell_type": "markdown",
      "metadata": {
        "id": "2z8HqsaK0cfN"
      },
      "source": [
        "### Task 2\n",
        "\n",
        "Everything's the same as in the previous task, but now use list comprehension instead of the for-loop to implement function `find_primes_2`.\n"
      ]
    },
    {
      "cell_type": "code",
      "execution_count": 34,
      "metadata": {
        "id": "kva_9ycA0cfN",
        "tags": [
          "task_2"
        ],
        "outputId": "7bc8b330-7cd7-400d-c9f4-9c3f8e8e3dc4",
        "colab": {
          "base_uri": "https://localhost:8080/"
        }
      },
      "outputs": [
        {
          "output_type": "stream",
          "name": "stdout",
          "text": [
            "[2, 3, 5, 7, 11]\n"
          ]
        }
      ],
      "source": [
        "def find_primes_2(a, b):\n",
        "\n",
        "  return [num for num in range(a, b+1) if is_prime(num)] #якщо число в діапазон підпадає під умову, це число береться як елемент нового списку\n",
        "\n",
        "print(find_primes_2(1, 11))  # should print [2, 3, 5, 7, 11]"
      ]
    },
    {
      "cell_type": "markdown",
      "metadata": {
        "id": "IqjW7SGS0cfN"
      },
      "source": [
        "### Task 3\n",
        "\n",
        "Complete the slicing operator so that the resulting list contains only numbers on the odd indices of the original list."
      ]
    },
    {
      "cell_type": "code",
      "execution_count": 36,
      "metadata": {
        "id": "p83RQvA40cfN",
        "tags": [
          "task_3"
        ],
        "outputId": "b28dbfe9-8977-4bd3-a5a3-7944bdd2ea20",
        "colab": {
          "base_uri": "https://localhost:8080/"
        }
      },
      "outputs": [
        {
          "output_type": "stream",
          "name": "stdout",
          "text": [
            "[1, 3, 5, 7, 9]\n"
          ]
        }
      ],
      "source": [
        "list_in = [0, 1, 2, 3, 4, 5, 6, 7, 8, 9, 10]\n",
        "\n",
        "list_out = list_in[1::2]\n",
        "\n",
        "print(list_out)  # should print [1, 3, 5, 7, 9]"
      ]
    },
    {
      "cell_type": "markdown",
      "metadata": {
        "id": "fceBNTpUnip6"
      },
      "source": [
        "### Task 4\n",
        "\n",
        "Sort the list `unsorted_list` in the following order: even numbers should go first, followed by odd numbers.\n",
        "\n",
        "Let's start by implementing the `is_even` function and then using sort."
      ]
    },
    {
      "cell_type": "code",
      "execution_count": 45,
      "metadata": {
        "id": "VsoALrbBnsjs",
        "tags": [
          "task_4"
        ],
        "colab": {
          "base_uri": "https://localhost:8080/"
        },
        "outputId": "0d461799-d96a-4d7d-c13a-ccf3b552b944"
      },
      "outputs": [
        {
          "output_type": "stream",
          "name": "stdout",
          "text": [
            "[2, 4, 6, 1, 3, 5, 7]\n"
          ]
        }
      ],
      "source": [
        "# TODO все ніяк не могла зрозуміти чого стосується цей туду\n",
        "def is_even(num):\n",
        "  return num%2==1 #беремо непарні значення за True, щоб ключ правильно відпрцював\n",
        "\n",
        "unsorted_list = [1, 2, 3, 4, 5, 6, 7]\n",
        "\n",
        "unsorted_list.sort(key=is_even) #оскільки значення False менше за True (0<1), маємо непарні числа після парних\n",
        "\n",
        "print(unsorted_list)  # should print [2, 4, 6, 1, 3, 5, 7] or any other valid sorting"
      ]
    },
    {
      "cell_type": "markdown",
      "metadata": {
        "id": "lG5tPGor2ftj"
      },
      "source": [
        "### Task 5\n",
        "\n",
        "Everybody loves pixel art! What about you?\n",
        "\n",
        "You are given a terrain map where 0 means water and 1 means land. It is not a very user-friendly representation.\n",
        "Let's print the map to the console using a whitespace `' '` for water and `'X'` for land. Please also add a border with `-` for lines and `+` for corners.\n",
        "\n",
        "\n",
        "Do not assume the map to be always of size 4 by 4; it can be any rectangle."
      ]
    },
    {
      "cell_type": "code",
      "execution_count": 88,
      "metadata": {
        "tags": [
          "task_5"
        ],
        "id": "tIdkmRfF2ftj",
        "outputId": "6a8f7345-7f0d-47c3-e63d-eb7b6de78500",
        "colab": {
          "base_uri": "https://localhost:8080/"
        }
      },
      "outputs": [
        {
          "output_type": "stream",
          "name": "stdout",
          "text": [
            "+----+\n",
            "|  XX|\n",
            "|   X|\n",
            "| XXX|\n",
            "|XXXX|\n",
            "+----+\n"
          ]
        }
      ],
      "source": [
        "terrain_map = [\n",
        "    [0, 0, 1, 1],\n",
        "    [0, 0, 0, 1],\n",
        "    [0, 1, 1, 1],\n",
        "    [1, 1, 1, 1]\n",
        "]\n",
        "\n",
        "def pixel_map(terrain_map): #створимо функцію, яка буде працювати для всіх розмірів\n",
        "\n",
        "  box = '+'+(len(terrain_map[0])*'-')+'+' #програмуємо вигляд верхнього і нижнього рядка\n",
        "\n",
        "  print(box) #додаємо верхній рядок\n",
        "\n",
        "  for every_string in terrain_map: #перебираємо кожен \"рядочок\" нашої карти\n",
        "    line = '|' #починаємо і далі закінчуємо рядок прямою лінією\n",
        "    for coordinate in every_string: #перебираємо кожну координату в \"рядочку\"\n",
        "      if coordinate == 1:\n",
        "        line +='X' #формуємо рядок карти де 1 перетворяться на Х, а 0 на пробіли(трохи нижче)\n",
        "      else:\n",
        "        line+=' '\n",
        "    line+='|'\n",
        "    print(line) #виводимо створену карту\n",
        "\n",
        "  print(box) #додаємо нижній рядок\n",
        "\n",
        "pixel_map(terrain_map)\n",
        "\n",
        "\n",
        "# Your map should look something like this:\n",
        "# +----+\n",
        "# |  XX|\n",
        "# |   X|\n",
        "# | XXX|\n",
        "# |XXXX|\n",
        "# +----+"
      ]
    }
  ],
  "metadata": {
    "colab": {
      "provenance": []
    },
    "kernelspec": {
      "display_name": "venv",
      "language": "python",
      "name": "python3"
    },
    "language_info": {
      "codemirror_mode": {
        "name": "ipython",
        "version": 3
      },
      "file_extension": ".py",
      "mimetype": "text/x-python",
      "name": "python",
      "nbconvert_exporter": "python",
      "pygments_lexer": "ipython3",
      "version": "3.11.5"
    },
    "orig_nbformat": 4
  },
  "nbformat": 4,
  "nbformat_minor": 0
}