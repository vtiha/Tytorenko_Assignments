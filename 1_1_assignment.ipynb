{
  "cells": [
    {
      "cell_type": "markdown",
      "metadata": {
        "id": "oY7M_WqQy7zz"
      },
      "source": [
        "# Assignment 1.1\n",
        "\n",
        "> Replace all TODOs with your code. Do not change any other code."
      ]
    },
    {
      "cell_type": "markdown",
      "metadata": {
        "id": "Jz8SYjAz0N8D"
      },
      "source": [
        "## Basics"
      ]
    },
    {
      "cell_type": "markdown",
      "metadata": {
        "id": "IHwd1Zzby7z1"
      },
      "source": [
        "### Task 1\n",
        "\n",
        "a. Write a program that prints the number 10.\n",
        "\n",
        "b. Declare another variable `res2` with value 10. Print IDs of both.\n",
        "\n",
        "c. Declare two other variables with the value 10000. Print IDs of both."
      ]
    },
    {
      "cell_type": "code",
      "execution_count": 1,
      "metadata": {
        "id": "UfB0dnXHy7z2",
        "tags": [
          "task_1a"
        ],
        "colab": {
          "base_uri": "https://localhost:8080/"
        },
        "outputId": "65f696a8-eb8c-4115-c2f8-1c3c883beb58"
      },
      "outputs": [
        {
          "output_type": "stream",
          "name": "stdout",
          "text": [
            "10\n"
          ]
        }
      ],
      "source": [
        "# TODO a\n",
        "\n",
        "res = 10\n",
        "\n",
        "print(res)"
      ]
    },
    {
      "cell_type": "code",
      "execution_count": 3,
      "metadata": {
        "id": "VtHGOji2zOfq",
        "tags": [
          "task_1b"
        ],
        "colab": {
          "base_uri": "https://localhost:8080/"
        },
        "outputId": "b71327b7-82df-4cdd-a1ac-9c7732106d35"
      },
      "outputs": [
        {
          "output_type": "stream",
          "name": "stdout",
          "text": [
            "133905198318096 133905198318096\n"
          ]
        }
      ],
      "source": [
        "# TODO b\n",
        "\n",
        "res2 = 10\n",
        "\n",
        "print(id(res), id(res2))"
      ]
    },
    {
      "cell_type": "code",
      "execution_count": 4,
      "metadata": {
        "id": "c-ca4slRzO92",
        "tags": [
          "task_1c"
        ],
        "colab": {
          "base_uri": "https://localhost:8080/"
        },
        "outputId": "c707def1-a4a2-4a50-c2e9-926ec2c53797"
      },
      "outputs": [
        {
          "output_type": "stream",
          "name": "stdout",
          "text": [
            "133904768085200 133904768084048\n"
          ]
        }
      ],
      "source": [
        "# TODO c\n",
        "number1 = 1000\n",
        "number2 = 1000\n",
        "print(id(number1), id(number2))"
      ]
    },
    {
      "cell_type": "markdown",
      "metadata": {
        "id": "lL-ELM-Ay7z2"
      },
      "source": [
        "### Task 2\n",
        "\n",
        "Now, write a program that gets a name from a user and prints \"Hello, <name>\"."
      ]
    },
    {
      "cell_type": "code",
      "execution_count": null,
      "metadata": {
        "id": "cibiSsjry7z3",
        "tags": [
          "task_2"
        ]
      },
      "outputs": [],
      "source": [
        "name = input()\n",
        "\n",
        "print('Hello,', name)"
      ]
    },
    {
      "cell_type": "markdown",
      "metadata": {
        "id": "oGnwHD6h0SVW"
      },
      "source": [
        "## Variables"
      ]
    },
    {
      "cell_type": "markdown",
      "metadata": {
        "id": "saWNjvtKy7z3"
      },
      "source": [
        "### Task 3\n",
        "\n",
        "Write a program that gets two int variables and swaps their values. Do it in 3 different ways."
      ]
    },
    {
      "cell_type": "code",
      "execution_count": null,
      "metadata": {
        "id": "V0T9Dybqy7z3",
        "tags": [
          "task_4a"
        ]
      },
      "outputs": [],
      "source": [
        "print('Option 1')\n",
        "a = 3\n",
        "b = 5\n",
        "\n",
        "c = a + b\n",
        "a = c - a\n",
        "b = c - b\n",
        "\n",
        "\n",
        "print('a =', a , 'b =', b)  # should print \"a = 5 b = 3\""
      ]
    },
    {
      "cell_type": "code",
      "execution_count": null,
      "metadata": {
        "id": "cs5yNlMDy7z3",
        "tags": [
          "task_4b"
        ]
      },
      "outputs": [],
      "source": [
        "print('Option 2')\n",
        "a = 3\n",
        "b = 5\n",
        "\n",
        "c = a\n",
        "a = b\n",
        "b = c\n",
        "\n",
        "print('a =', a, 'b =', b)  # should print \"a = 5 b = 3\""
      ]
    },
    {
      "cell_type": "code",
      "execution_count": null,
      "metadata": {
        "id": "iCRsMwrsy7z3",
        "tags": [
          "task_4c"
        ]
      },
      "outputs": [],
      "source": [
        "print('Option 3')\n",
        "a = 3\n",
        "b = 5\n",
        "\n",
        "a = a*b #15\n",
        "b = int(a/b)\n",
        "a = int(a/b)\n",
        "\n",
        "\n",
        "print('a =', a, 'b =', b)  # should print \"a = 5 b = 3\""
      ]
    },
    {
      "cell_type": "markdown",
      "metadata": {
        "id": "5DzFkKwx0VI5"
      },
      "source": [
        "## Numbers"
      ]
    },
    {
      "cell_type": "markdown",
      "metadata": {
        "id": "nP0LlORsy7z4"
      },
      "source": [
        "### Task 4\n",
        "\n",
        "Write a program that gets two numbers from the user. Print to the console the maximum of these two variables."
      ]
    },
    {
      "cell_type": "code",
      "execution_count": null,
      "metadata": {
        "id": "RiIm_kUSy7z4",
        "tags": [
          "task_5"
        ]
      },
      "outputs": [],
      "source": [
        "a = input()\n",
        "b = input()\n",
        "\n",
        "res = max(a,b) #ми не вчили не цю функцію, не оператори if, тому я погуглила і скористалась простішим варіантом\n",
        "\n",
        "print(res)"
      ]
    },
    {
      "cell_type": "markdown",
      "metadata": {
        "id": "hU1yDEnzy7z4"
      },
      "source": [
        "### Task 5\n",
        "\n",
        "You have two variables, `x1` and `x2`. Complete the program that calculates the following function:\n",
        "\n",
        "$$ f(x_1, x_2) = x_1 ^ {\\frac{x_2 - 1}{2}} $$"
      ]
    },
    {
      "cell_type": "code",
      "execution_count": null,
      "metadata": {
        "id": "8sOSsdKiy7z4",
        "tags": [
          "task_6"
        ]
      },
      "outputs": [],
      "source": [
        "x1 = 10\n",
        "x2 = 5\n",
        "\n",
        "res = x1**((x2-1)/2)\n",
        "\n",
        "print(res)  # should be 100.0"
      ]
    },
    {
      "cell_type": "markdown",
      "metadata": {
        "id": "NbbRIcyqy7z4"
      },
      "source": [
        "### Task 6 (optional)\n",
        "\n",
        "You have a variable `x`, always a two-digit number (e.g., `10` or `57`). Complete the program that gets the last digit of this number (e.g., `10 -> 0`, `57 -> 7`)."
      ]
    },
    {
      "cell_type": "code",
      "execution_count": 36,
      "metadata": {
        "id": "2K8klEkzy7z4",
        "tags": [
          "task_7"
        ],
        "colab": {
          "base_uri": "https://localhost:8080/"
        },
        "outputId": "a2297b8e-b5be-45d8-dcd0-d1c8ff925749"
      },
      "outputs": [
        {
          "output_type": "stream",
          "name": "stdout",
          "text": [
            "7\n"
          ]
        }
      ],
      "source": [
        "x = 57\n",
        "\n",
        "res = (x-int(x/10)*10)\n",
        "\n",
        "print(res)  # should be 7"
      ]
    }
  ],
  "metadata": {
    "colab": {
      "provenance": []
    },
    "kernelspec": {
      "display_name": "venv",
      "language": "python",
      "name": "python3"
    },
    "language_info": {
      "codemirror_mode": {
        "name": "ipython",
        "version": 3
      },
      "file_extension": ".py",
      "mimetype": "text/x-python",
      "name": "python",
      "nbconvert_exporter": "python",
      "pygments_lexer": "ipython3",
      "version": "3.9.6"
    },
    "orig_nbformat": 4
  },
  "nbformat": 4,
  "nbformat_minor": 0
}