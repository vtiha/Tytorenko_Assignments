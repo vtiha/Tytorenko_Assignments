{
  "cells": [
    {
      "cell_type": "markdown",
      "metadata": {
        "id": "view-in-github",
        "colab_type": "text"
      },
      "source": [
        "<a href=\"https://colab.research.google.com/github/vtiha/Tytorenko_Assignments/blob/main/8_1_assigment.ipynb\" target=\"_parent\"><img src=\"https://colab.research.google.com/assets/colab-badge.svg\" alt=\"Open In Colab\"/></a>"
      ]
    },
    {
      "cell_type": "markdown",
      "metadata": {
        "id": "2_R_Ya7UhcB8"
      },
      "source": [
        "# Assignment 8.1\n",
        "\n",
        "> Replace all TODOs with your code.\n",
        ">\n",
        "> Do not change any other code and do not add/remove cells!"
      ]
    },
    {
      "cell_type": "markdown",
      "metadata": {
        "id": "N1SWwMSshfVz"
      },
      "source": [
        "## Classes"
      ]
    },
    {
      "cell_type": "markdown",
      "metadata": {
        "id": "OY8NxJ-CiePg"
      },
      "source": [
        "### Task 1\n",
        "\n",
        "Define a Python class named `Interval` with the following specifications:\n",
        "\n",
        "1. The class should have a constructor (\\_\\_init__) that takes two parameters, start and end, and initializes the interval with these values.\n",
        "2. Ensure that both start and end are numeric (either integers or floats).\n",
        "3. Ensure that the start value is less than or equal to the end value.\n",
        "4. Provide a \\_\\_str__ method to return a string representation of the interval in the format \"[start, end]\"."
      ]
    },
    {
      "cell_type": "code",
      "execution_count": 18,
      "metadata": {
        "id": "VBFmFWDXjQPT",
        "outputId": "1fdc2661-b226-4530-e9b6-686679d02786",
        "colab": {
          "base_uri": "https://localhost:8080/"
        }
      },
      "outputs": [
        {
          "output_type": "stream",
          "name": "stdout",
          "text": [
            "[1, 5]\n"
          ]
        }
      ],
      "source": [
        "class Interval:\n",
        "    def __init__(self, start, end):\n",
        "\n",
        "      if type(start) not in {int, float} or type(end) not in {int, float}:\n",
        "        raise ValueError(\"Start and end must be numeric!\")\n",
        "\n",
        "      if start > end:\n",
        "          raise ValueError(\"Start value must be less than or equal to the end value.\")\n",
        "\n",
        "      self.start = start\n",
        "      self.end = end\n",
        "\n",
        "    def __str__(self):\n",
        "        return f\"[{self.start}, {self.end}]\"\n",
        "\n",
        "interval = Interval(1, 5)\n",
        "print(interval) # [1, 5]"
      ]
    },
    {
      "cell_type": "markdown",
      "metadata": {
        "id": "pJ72CYiylhIY"
      },
      "source": [
        "### Task 2\n",
        "\n",
        "Expand the Interval class by adding a method named `is_overlapping` that checks whether the current interval overlaps with another interval. The method should take another Interval object as a parameter and return `True` if there is an overlap and `False` otherwise."
      ]
    },
    {
      "cell_type": "code",
      "execution_count": 19,
      "metadata": {
        "id": "7t64cfMdl3qe",
        "colab": {
          "base_uri": "https://localhost:8080/"
        },
        "outputId": "836f68e8-a75f-406d-a7bb-15be1f9049c9"
      },
      "outputs": [
        {
          "output_type": "stream",
          "name": "stdout",
          "text": [
            "Do intervals overlap? True\n"
          ]
        }
      ],
      "source": [
        "class Interval:\n",
        "    def __init__(self, start, end):\n",
        "\n",
        "      if type(start) not in {int, float} or type(end) not in {int, float}:\n",
        "        raise ValueError(\"Start and end must be numeric!\")\n",
        "\n",
        "      if start > end:\n",
        "          raise ValueError(\"Start value must be less than or equal to the end value.\")\n",
        "\n",
        "      self.start = start\n",
        "      self.end = end\n",
        "\n",
        "    def __str__(self):\n",
        "        return f\"[{self.start}, {self.end}]\"\n",
        "\n",
        "    def is_overlapping(self, other_interval):\n",
        "        return self.start <= other_interval.end and self.end >= other_interval.start\n",
        "\n",
        "interval1 = Interval(1, 5)\n",
        "interval2 = Interval(3, 8)\n",
        "\n",
        "overlap_result = interval1.is_overlapping(interval2)\n",
        "print(\"Do intervals overlap?\", overlap_result) # Do intervals overlap? True"
      ]
    },
    {
      "cell_type": "markdown",
      "metadata": {
        "id": "aelqtEfkni2N"
      },
      "source": [
        "### Task 3\n",
        "\n",
        "Expand the `Interval` class by adding a **static** method named `intersection_static` that calculates the intersection of two overlapping intervals. The static method should take two `Interval` objects as parameters and return a new `Interval` representing the intersection if there is one.\n",
        "\n",
        "The method should return `None` if the intervals do not overlap."
      ]
    },
    {
      "cell_type": "code",
      "execution_count": 20,
      "metadata": {
        "id": "E6DNMmTRoyNa",
        "colab": {
          "base_uri": "https://localhost:8080/"
        },
        "outputId": "3bb9662e-f4c4-4239-d742-1f366ca0293b"
      },
      "outputs": [
        {
          "output_type": "stream",
          "name": "stdout",
          "text": [
            "Intersection result (static method): [3, 5]\n"
          ]
        }
      ],
      "source": [
        "class Interval:\n",
        "    def __init__(self, start, end):\n",
        "\n",
        "      if type(start) not in {int, float} or type(end) not in {int, float}:\n",
        "        raise ValueError(\"Start and end must be numeric!\")\n",
        "\n",
        "      if start > end:\n",
        "          raise ValueError(\"Start value must be less than or equal to the end value.\")\n",
        "\n",
        "      self.start = start\n",
        "      self.end = end\n",
        "\n",
        "    def __str__(self):\n",
        "        return f\"[{self.start}, {self.end}]\"\n",
        "\n",
        "    def is_overlapping(self, other_interval):\n",
        "        return self.start <= other_interval.end and self.end >= other_interval.start\n",
        "\n",
        "    @staticmethod\n",
        "    def intersection_static(interval1, interval2):\n",
        "        if interval1.is_overlapping(interval2):\n",
        "            start = max(interval1.start, interval2.start)\n",
        "            end = min(interval1.end, interval2.end)\n",
        "            return Interval(start, end)\n",
        "        return None\n",
        "\n",
        "interval1 = Interval(1, 5)\n",
        "interval2 = Interval(3, 8)\n",
        "\n",
        "intersection_result_static = Interval.intersection_static(interval1, interval2)\n",
        "print(\"Intersection result (static method):\", intersection_result_static) # Intersection result (static method): [3, 5]"
      ]
    },
    {
      "cell_type": "markdown",
      "metadata": {
        "id": "xGh7oQHFtsSl"
      },
      "source": [
        "### Task 4\n",
        "\n",
        "Expand the `Interval` class by overloading a math operator \"&\" to calculate the intersection of two overlapping intervals. Define the logic for the intersection using the method from the previous task."
      ]
    },
    {
      "cell_type": "code",
      "execution_count": 21,
      "metadata": {
        "id": "3f3CiUlGu1cq",
        "colab": {
          "base_uri": "https://localhost:8080/"
        },
        "outputId": "e913133a-bc69-433c-98eb-1e169ae06890"
      },
      "outputs": [
        {
          "output_type": "stream",
          "name": "stdout",
          "text": [
            "Intersection result: [3, 5]\n"
          ]
        }
      ],
      "source": [
        "class Interval:\n",
        "    def __init__(self, start, end):\n",
        "\n",
        "      if type(start) not in {int, float} or type(end) not in {int, float}:\n",
        "        raise ValueError(\"Start and end must be numeric!\")\n",
        "\n",
        "      if start > end:\n",
        "          raise ValueError(\"Start value must be less than or equal to the end value.\")\n",
        "\n",
        "      self.start = start\n",
        "      self.end = end\n",
        "\n",
        "    def __str__(self):\n",
        "        return f\"[{self.start}, {self.end}]\"\n",
        "\n",
        "    def is_overlapping(self, other_interval):\n",
        "        return self.start <= other_interval.end and self.end >= other_interval.start\n",
        "\n",
        "    @staticmethod\n",
        "    def intersection_static(interval1, interval2):\n",
        "        if interval1.is_overlapping(interval2):\n",
        "            start = max(interval1.start, interval2.start)\n",
        "            end = min(interval1.end, interval2.end)\n",
        "            return Interval(start, end)\n",
        "        return None\n",
        "\n",
        "    def __and__(self, other_interval):\n",
        "        return self.intersection_static(self, other_interval)\n",
        "\n",
        "\n",
        "interval1 = Interval(1, 5)\n",
        "interval2 = Interval(3, 8)\n",
        "\n",
        "intersection_result = interval1 & interval2\n",
        "print(\"Intersection result:\", intersection_result) # Intersection result: [3, 5]"
      ]
    },
    {
      "cell_type": "markdown",
      "metadata": {
        "id": "51BGij2Tvoka"
      },
      "source": [
        "### Task 5\n",
        "\n",
        "Expand the `Interval` class by adding a static method named `union_static` that calculates the union of two overlapping intervals. The static method should take two Interval objects as parameters and return a new Interval representing the union if there is one.\n",
        "\n",
        "The method should return `None` if the intervals do not overlap."
      ]
    },
    {
      "cell_type": "code",
      "execution_count": 22,
      "metadata": {
        "id": "Xnm1CbK8v2v1",
        "colab": {
          "base_uri": "https://localhost:8080/"
        },
        "outputId": "02868819-e492-42dc-c062-60f795ad80ca"
      },
      "outputs": [
        {
          "output_type": "stream",
          "name": "stdout",
          "text": [
            "Union Result (Static method): [1, 8]\n"
          ]
        }
      ],
      "source": [
        "class Interval:\n",
        "    def __init__(self, start, end):\n",
        "\n",
        "      if type(start) not in {int, float} or type(end) not in {int, float}:\n",
        "        raise ValueError(\"Start and end must be numeric!\")\n",
        "\n",
        "      if start > end:\n",
        "          raise ValueError(\"Start value must be less than or equal to the end value.\")\n",
        "\n",
        "      self.start = start\n",
        "      self.end = end\n",
        "\n",
        "    def __str__(self):\n",
        "        return f\"[{self.start}, {self.end}]\"\n",
        "\n",
        "    def is_overlapping(self, other_interval):\n",
        "        return self.start <= other_interval.end and self.end >= other_interval.start\n",
        "\n",
        "    @staticmethod\n",
        "    def intersection_static(interval1, interval2):\n",
        "        if interval1.is_overlapping(interval2):\n",
        "            start = max(interval1.start, interval2.start)\n",
        "            end = min(interval1.end, interval2.end)\n",
        "            return Interval(start, end)\n",
        "        return None\n",
        "\n",
        "    def __and__(self, other_interval):\n",
        "        return self.intersection_static(self, other_interval)\n",
        "\n",
        "    @staticmethod\n",
        "    def union_static(interval1, interval2):\n",
        "        if interval1.is_overlapping(interval2):\n",
        "          start = min(interval1.start, interval2.start)\n",
        "          end = max(interval1.end, interval2.end)\n",
        "        return Interval(start, end)\n",
        "\n",
        "interval1 = Interval(1, 5)\n",
        "interval2 = Interval(3, 8)\n",
        "\n",
        "union_result_static = Interval.union_static(interval1, interval2)\n",
        "print(\"Union Result (Static method):\", union_result_static) # Union Result (Static method): [1, 8]"
      ]
    },
    {
      "cell_type": "markdown",
      "metadata": {
        "id": "5yGYlKjCwbzr"
      },
      "source": [
        "### Task 6\n",
        "\n",
        "Expand the `Interval` class by overloading a math operator \"|\" to calculate the union  of two overlapping intervals. Define the logic for the union using the method from the previous task."
      ]
    },
    {
      "cell_type": "code",
      "execution_count": 23,
      "metadata": {
        "id": "xjCgPAy5wu1Z",
        "colab": {
          "base_uri": "https://localhost:8080/"
        },
        "outputId": "7bab7a57-3655-47c9-df5f-0cf36fb19e69"
      },
      "outputs": [
        {
          "output_type": "stream",
          "name": "stdout",
          "text": [
            "Union Result: [1, 8]\n"
          ]
        }
      ],
      "source": [
        "class Interval:\n",
        "    def __init__(self, start, end):\n",
        "\n",
        "      if type(start) not in {int, float} or type(end) not in {int, float}:\n",
        "        raise ValueError(\"Start and end must be numeric!\")\n",
        "\n",
        "      if start > end:\n",
        "          raise ValueError(\"Start value must be less than or equal to the end value.\")\n",
        "\n",
        "      self.start = start\n",
        "      self.end = end\n",
        "\n",
        "    def __str__(self):\n",
        "        return f\"[{self.start}, {self.end}]\"\n",
        "\n",
        "    def is_overlapping(self, other_interval):\n",
        "        return self.start <= other_interval.end and self.end >= other_interval.start\n",
        "\n",
        "    @staticmethod\n",
        "    def intersection_static(interval1, interval2):\n",
        "        if interval1.is_overlapping(interval2):\n",
        "            start = max(interval1.start, interval2.start)\n",
        "            end = min(interval1.end, interval2.end)\n",
        "            return Interval(start, end)\n",
        "        return None\n",
        "\n",
        "    def __and__(self, other_interval):\n",
        "        return self.intersection_static(self, other_interval)\n",
        "\n",
        "    @staticmethod\n",
        "    def union_static(interval1, interval2):\n",
        "        if interval1.is_overlapping(interval2):\n",
        "          start = min(interval1.start, interval2.start)\n",
        "          end = max(interval1.end, interval2.end)\n",
        "        return Interval(start, end)\n",
        "\n",
        "    def __or__(self, other_interval):\n",
        "        return self.union_static(self, other_interval)\n",
        "\n",
        "\n",
        "interval1 = Interval(1, 5)\n",
        "interval2 = Interval(3, 8)\n",
        "\n",
        "union_result = interval1 | interval2\n",
        "print(\"Union Result:\", union_result) # Union Result: [1, 8]"
      ]
    },
    {
      "cell_type": "markdown",
      "metadata": {
        "id": "N-hiSBEK0fbz"
      },
      "source": [
        "### Task 7 (optional)\n",
        "\n",
        "Expand the `Interval` class by overloading the \"-\" operator to calculate the difference between two intervals. The method should return a new `Interval` representing the portion of the first interval that is not in the second."
      ]
    },
    {
      "cell_type": "code",
      "execution_count": 28,
      "metadata": {
        "id": "YZ5AqAXr002L",
        "colab": {
          "base_uri": "https://localhost:8080/"
        },
        "outputId": "4ff15752-2d3d-47bf-c5de-3267cfe75e92"
      },
      "outputs": [
        {
          "output_type": "stream",
          "name": "stdout",
          "text": [
            "Difference Result: [1, 2]\n",
            "Difference Result: [6, 8]\n"
          ]
        }
      ],
      "source": [
        "class Interval:\n",
        "    def __init__(self, start, end):\n",
        "\n",
        "      if type(start) not in {int, float} or type(end) not in {int, float}:\n",
        "        raise ValueError(\"Start and end must be numeric!\")\n",
        "\n",
        "      if start > end:\n",
        "          raise ValueError(\"Start value must be less than or equal to the end value.\")\n",
        "\n",
        "      self.start = start\n",
        "      self.end = end\n",
        "\n",
        "    def __str__(self):\n",
        "        return f\"[{self.start}, {self.end}]\"\n",
        "\n",
        "    def is_overlapping(self, other_interval):\n",
        "        return self.start <= other_interval.end and self.end >= other_interval.start\n",
        "\n",
        "    @staticmethod\n",
        "    def intersection_static(interval1, interval2):\n",
        "        if interval1.is_overlapping(interval2):\n",
        "            start = max(interval1.start, interval2.start)\n",
        "            end = min(interval1.end, interval2.end)\n",
        "            return Interval(start, end)\n",
        "        return None\n",
        "\n",
        "    def __and__(self, other_interval):\n",
        "        return self.intersection_static(self, other_interval)\n",
        "\n",
        "    @staticmethod\n",
        "    def union_static(interval1, interval2):\n",
        "        if interval1.is_overlapping(interval2):\n",
        "          start = min(interval1.start, interval2.start)\n",
        "          end = max(interval1.end, interval2.end)\n",
        "        return Interval(start, end)\n",
        "\n",
        "    def __or__(self, other_interval):\n",
        "        return self.union_static(self, other_interval)\n",
        "\n",
        "    def __sub__(self, other_interval):\n",
        "        if not self.is_overlapping(other_interval):\n",
        "            return None #не вказано, що має відображати при відсутності перетину, тому None\n",
        "\n",
        "        if self.start < other_interval.start:\n",
        "            return Interval(self.start, other_interval.start - 1)\n",
        "\n",
        "        if self.end > other_interval.end:\n",
        "            return Interval(other_interval.end + 1, self.end)\n",
        "\n",
        "        return None\n",
        "\n",
        "interval1 = Interval(1, 5)\n",
        "interval2 = Interval(3, 8)\n",
        "\n",
        "print(\"Difference Result:\", interval1 - interval2) # Union Result: [1, 2]\n",
        "print(\"Difference Result:\", interval2 - interval1) # Union Result: [6, 8]"
      ]
    }
  ],
  "metadata": {
    "colab": {
      "provenance": [],
      "toc_visible": true,
      "include_colab_link": true
    },
    "kernelspec": {
      "display_name": "Python 3",
      "name": "python3"
    },
    "language_info": {
      "name": "python"
    }
  },
  "nbformat": 4,
  "nbformat_minor": 0
}