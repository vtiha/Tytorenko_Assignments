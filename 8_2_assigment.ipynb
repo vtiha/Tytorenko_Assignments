{
  "cells": [
    {
      "cell_type": "markdown",
      "metadata": {
        "id": "view-in-github",
        "colab_type": "text"
      },
      "source": [
        "<a href=\"https://colab.research.google.com/github/vtiha/Tytorenko_Assignments/blob/main/8_2_assigment.ipynb\" target=\"_parent\"><img src=\"https://colab.research.google.com/assets/colab-badge.svg\" alt=\"Open In Colab\"/></a>"
      ]
    },
    {
      "cell_type": "markdown",
      "metadata": {
        "id": "ozOVKEIKm8aP"
      },
      "source": [
        "# Assignment 8.2\n",
        "\n",
        "> Replace all TODOs with your code.\n",
        ">\n",
        "> Do not change any other code and do not add/remove cells!"
      ]
    },
    {
      "cell_type": "markdown",
      "metadata": {
        "id": "GRPST61knD1_"
      },
      "source": [
        "## Inheritance"
      ]
    },
    {
      "cell_type": "markdown",
      "metadata": {
        "id": "TIeo4PGfnH_f"
      },
      "source": [
        "### Task 1\n",
        "\n",
        "Define a base class named `Account` to a general bank account.\n",
        "\n",
        "The class should include an initialization method (`__init__`), taking into account the number and holder name and methods for depositing money to the account and withdrawing from it. Do not forget to ensure that the account never has a negative balance.\n",
        "\n",
        "String representation (`__str__`) should be an abstract method (throw a corresponding error if it is called on the base `Account` class"
      ]
    },
    {
      "cell_type": "code",
      "execution_count": 5,
      "metadata": {
        "id": "es4kM6panjNB"
      },
      "outputs": [],
      "source": [
        "from abc import ABC, abstractmethod #без цього імпорта не працює абстрактний метод\n",
        "\n",
        "class Account:\n",
        "    def __init__(self, account_number, holder_name, initial_balance=0):\n",
        "        self.account_number = account_number\n",
        "        self.holder_name = holder_name\n",
        "        self.balance = initial_balance\n",
        "\n",
        "    def deposit(self, amount):\n",
        "        if amount > 0:\n",
        "            self.balance += amount\n",
        "        else:\n",
        "            raise ValueError(\"Deposit amount must be positive.\")\n",
        "\n",
        "    def withdraw(self, amount):\n",
        "        if amount > self.balance:\n",
        "            raise ValueError(\"Insufficient funds.\")\n",
        "        elif amount > 0:\n",
        "            self.balance -= amount\n",
        "        else:\n",
        "            raise ValueError(\"Withdrawal amount must be positive.\")\n",
        "\n",
        "    @abstractmethod\n",
        "    def __str__(self):\n",
        "        raise NotImplementedError(\"String representation not implemented in the base Account class.\")\n"
      ]
    },
    {
      "cell_type": "markdown",
      "metadata": {
        "id": "4FjqIBbCnqh3"
      },
      "source": [
        "### Task 2\n",
        "\n",
        "Derive a `CurrentAccount` subclass from the `Account` base class and provide its own implementation for the `__str__` method. The text representation should mention the type of account, account number, and remaining balance."
      ]
    },
    {
      "cell_type": "code",
      "execution_count": 6,
      "metadata": {
        "id": "VNhS9FjCr-_k"
      },
      "outputs": [],
      "source": [
        "class CurrentAccount(Account):\n",
        "    def __str__(self):\n",
        "        return f\"Current Account | Account Number: {self.account_number} | Balance: {self.balance:.2f}\" # консрукція :.2f для оккруглення до двох чисел після коми"
      ]
    },
    {
      "cell_type": "markdown",
      "metadata": {
        "id": "h-CdQzoOtjy6"
      },
      "source": [
        "### Task 3\n",
        "\n",
        "Derive a `SavingsAccount` subclass from the `Account` base class and provide its implementation for the `__str__` method. When initializing objects of this class, the caller must provide the `interest_rate` parameter.\n",
        "\n",
        " The text representation should mention the type of account, interest rate, account number, and remaining balance.\n",
        "\n",
        "Provide additional method `add_interest` that adds interest based on `interest_rate`:\n",
        "$$new\\_balance = old\\_balance + old\\_balance * interest\\_rate$$"
      ]
    },
    {
      "cell_type": "code",
      "execution_count": 7,
      "metadata": {
        "id": "akQXzV_vtweO"
      },
      "outputs": [],
      "source": [
        "class SavingsAccount(Account):\n",
        "    def __init__(self, account_number, holder_name, interest_rate):\n",
        "        super().__init__(account_number, holder_name)\n",
        "        self.interest_rate = interest_rate\n",
        "\n",
        "    def __str__(self):\n",
        "        return (f\"Savings Account | Interest Rate: {self.interest_rate:.2%} | \" # відображення процентної ставки з двома знаками після коми\n",
        "                f\"Account Number: {self.account_number} | Balance: {self.balance:.2f}\")\n",
        "\n",
        "    def add_interest(self):\n",
        "        self.balance += self.balance * self.interest_rate"
      ]
    },
    {
      "cell_type": "markdown",
      "metadata": {
        "id": "724_WyJry8i9"
      },
      "source": [
        "### Task 4\n",
        "\n",
        "Create an array with different accounts, add/withdraw money from some of them, iterate over the array, and print the text representation of each."
      ]
    },
    {
      "cell_type": "code",
      "execution_count": 15,
      "metadata": {
        "id": "BDZA3L25zZEo",
        "colab": {
          "base_uri": "https://localhost:8080/"
        },
        "outputId": "9b8f4f2d-55a5-4f6d-b70e-41ac60ef8f6a"
      },
      "outputs": [
        {
          "output_type": "stream",
          "name": "stdout",
          "text": [
            "Current Account | Account Number: **9302 | Balance: 250.00\n",
            "Savings Account | Interest Rate: 5.00% | Account Number: **7548 | Balance: 1575.00\n"
          ]
        }
      ],
      "source": [
        "accounts = [\n",
        "    CurrentAccount(\"**9302\", \"Kateryna\"),\n",
        "    SavingsAccount(\"**7548\", \"Kateryna\", 0.05)\n",
        "]\n",
        "\n",
        "accounts[0].deposit(350) # поповнення поточного рахунку\n",
        "accounts[0].withdraw(100) # зняття коштів з поточного рахункку\n",
        "accounts[1].deposit(1500) # поповнення заощаджувального рахунку\n",
        "accounts[1].add_interest() # додавання відсотків до заощаджувального рахунку\n",
        "\n",
        "\n",
        "for account in accounts:\n",
        "    print(account)"
      ]
    }
  ],
  "metadata": {
    "colab": {
      "provenance": [],
      "toc_visible": true,
      "include_colab_link": true
    },
    "kernelspec": {
      "display_name": "Python 3",
      "name": "python3"
    },
    "language_info": {
      "name": "python"
    }
  },
  "nbformat": 4,
  "nbformat_minor": 0
}