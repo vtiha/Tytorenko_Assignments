{
  "cells": [
    {
      "cell_type": "markdown",
      "metadata": {
        "id": "oY7M_WqQy7zz"
      },
      "source": [
        "# Assignment 9.1\n",
        "\n",
        "> Replace all TODOs with your code. Do not change any other code."
      ]
    },
    {
      "cell_type": "code",
      "execution_count": 5,
      "metadata": {
        "id": "bymolQyG6lVT"
      },
      "outputs": [],
      "source": [
        "# Do not edit this cell\n",
        "\n",
        "import numpy as np\n",
        "import pandas as pd"
      ]
    },
    {
      "cell_type": "markdown",
      "metadata": {
        "id": "Jz8SYjAz0N8D"
      },
      "source": [
        "## Numpy"
      ]
    },
    {
      "cell_type": "markdown",
      "metadata": {
        "id": "IHwd1Zzby7z1"
      },
      "source": [
        "### Task 1\n",
        "\n",
        "Create a 1D numpy array with elements [1, 2, 3, 4, 5]. Do it in two different ways.\n"
      ]
    },
    {
      "cell_type": "code",
      "execution_count": 6,
      "metadata": {
        "id": "UfB0dnXHy7z2",
        "tags": [
          "task_1a"
        ],
        "colab": {
          "base_uri": "https://localhost:8080/"
        },
        "outputId": "76050e77-8246-4400-a476-86e68aa10a00"
      },
      "outputs": [
        {
          "output_type": "stream",
          "name": "stdout",
          "text": [
            "[1 2 3 4 5]\n"
          ]
        }
      ],
      "source": [
        "res = np.array([1, 2, 3, 4, 5])\n",
        "\n",
        "print(res)"
      ]
    },
    {
      "cell_type": "code",
      "execution_count": 7,
      "metadata": {
        "id": "VtHGOji2zOfq",
        "tags": [
          "task_1b"
        ],
        "colab": {
          "base_uri": "https://localhost:8080/"
        },
        "outputId": "3d05ecf3-1948-4e51-f158-ea06c780b157"
      },
      "outputs": [
        {
          "output_type": "stream",
          "name": "stdout",
          "text": [
            "[1 2 3 4 5]\n"
          ]
        }
      ],
      "source": [
        "res2 = np.arange(1,6)\n",
        "\n",
        "print(res2)"
      ]
    },
    {
      "cell_type": "markdown",
      "metadata": {
        "id": "lL-ELM-Ay7z2"
      },
      "source": [
        "### Task 2\n",
        "\n",
        "Create a 2D numpy array with shape (3, 5) filled with random integers between 1 and 100."
      ]
    },
    {
      "cell_type": "code",
      "execution_count": 8,
      "metadata": {
        "id": "cibiSsjry7z3",
        "tags": [
          "task_2"
        ],
        "colab": {
          "base_uri": "https://localhost:8080/"
        },
        "outputId": "a483031f-bf5c-4296-85e4-ffbdd9d6bc6e"
      },
      "outputs": [
        {
          "output_type": "stream",
          "name": "stdout",
          "text": [
            "[[25 27 77 57 69]\n",
            " [16 43 77 21 70]\n",
            " [48 20 90 64 23]]\n"
          ]
        }
      ],
      "source": [
        "res3 = np.random.randint(1, 101, size=(3, 5))\n",
        "\n",
        "\n",
        "print(res3)"
      ]
    },
    {
      "cell_type": "markdown",
      "metadata": {
        "id": "Iagg2Xez6lVk"
      },
      "source": [
        "### Task 3\n",
        "\n",
        "Print the first row of array `res3`."
      ]
    },
    {
      "cell_type": "code",
      "execution_count": 9,
      "metadata": {
        "tags": [
          "task_3"
        ],
        "id": "0Ug49s5l6lVm",
        "colab": {
          "base_uri": "https://localhost:8080/"
        },
        "outputId": "0af7e45d-ff31-4a00-99fd-d209937022e0"
      },
      "outputs": [
        {
          "output_type": "stream",
          "name": "stdout",
          "text": [
            "[25 27 77 57 69]\n"
          ]
        }
      ],
      "source": [
        "print(res3[0])"
      ]
    },
    {
      "cell_type": "markdown",
      "metadata": {
        "id": "L-qS4zMn6lVn"
      },
      "source": [
        "### Task 4\n",
        "\n",
        "Access the last column of array `res3`. Assume that the array may be of any 2D shape."
      ]
    },
    {
      "cell_type": "code",
      "execution_count": 14,
      "metadata": {
        "tags": [
          "task_4"
        ],
        "id": "XLdVpV8P6lVo",
        "colab": {
          "base_uri": "https://localhost:8080/"
        },
        "outputId": "de025568-4b75-4f31-8970-1ebabf9fe0ce"
      },
      "outputs": [
        {
          "output_type": "stream",
          "name": "stdout",
          "text": [
            "[69 70 23]\n"
          ]
        }
      ],
      "source": [
        "print(res3[:, -1])"
      ]
    },
    {
      "cell_type": "markdown",
      "metadata": {
        "id": "saWNjvtKy7z3"
      },
      "source": [
        "### Task 5\n",
        "\n",
        "Find the min, max, and sum of elements of the second column of array `res3`."
      ]
    },
    {
      "cell_type": "code",
      "execution_count": 16,
      "metadata": {
        "id": "V0T9Dybqy7z3",
        "tags": [
          "task_5a"
        ],
        "colab": {
          "base_uri": "https://localhost:8080/"
        },
        "outputId": "e478b0c7-9466-477f-af1a-b409ed28cc65"
      },
      "outputs": [
        {
          "output_type": "stream",
          "name": "stdout",
          "text": [
            "min = 20\n"
          ]
        }
      ],
      "source": [
        "# Min\n",
        "res_min = (res3[:, 1]).min()\n",
        "\n",
        "print('min =', res_min)"
      ]
    },
    {
      "cell_type": "code",
      "execution_count": 17,
      "metadata": {
        "id": "cs5yNlMDy7z3",
        "tags": [
          "task_5b"
        ],
        "colab": {
          "base_uri": "https://localhost:8080/"
        },
        "outputId": "31320044-4759-4170-f841-4398349479c9"
      },
      "outputs": [
        {
          "output_type": "stream",
          "name": "stdout",
          "text": [
            "max = 43\n"
          ]
        }
      ],
      "source": [
        "# Max\n",
        "res_max = (res3[:, 1]).max()\n",
        "\n",
        "print('max =', res_max)"
      ]
    },
    {
      "cell_type": "code",
      "execution_count": 18,
      "metadata": {
        "id": "iCRsMwrsy7z3",
        "tags": [
          "task_5c"
        ],
        "colab": {
          "base_uri": "https://localhost:8080/"
        },
        "outputId": "e92894fc-0a35-4e1c-89ea-63f2a6b4313e"
      },
      "outputs": [
        {
          "output_type": "stream",
          "name": "stdout",
          "text": [
            "sum = 90\n"
          ]
        }
      ],
      "source": [
        "# Sum\n",
        "res_sum = (res3[:, 1]).sum()\n",
        "\n",
        "print('sum =', res_sum)"
      ]
    },
    {
      "cell_type": "markdown",
      "metadata": {
        "id": "r47KggVa6lVr"
      },
      "source": [
        "### Task 6\n",
        "\n",
        "Tabulate the function\n",
        "\n",
        "$$f(x) = e^{2x}$$\n",
        "\n",
        "on interval `[0, 1]` with step 0.1.\n",
        "\n",
        "By \"tabulate\" we mean that we want to have a table (1D array), where on the first position we will have the function value for 0, on the second position 0.1, and so on."
      ]
    },
    {
      "cell_type": "code",
      "execution_count": 19,
      "metadata": {
        "tags": [
          "task_6"
        ],
        "id": "hYvk0d3i6lVs",
        "colab": {
          "base_uri": "https://localhost:8080/"
        },
        "outputId": "7a414e21-e582-41fe-b566-198344c32a5d"
      },
      "outputs": [
        {
          "output_type": "stream",
          "name": "stdout",
          "text": [
            "[1.         1.22140276 1.4918247  1.8221188  2.22554093 2.71828183\n",
            " 3.32011692 4.05519997 4.95303242 6.04964746 7.3890561 ]\n"
          ]
        }
      ],
      "source": [
        "x = np.arange(0, 1.1, 0.1)\n",
        "f_x = np.exp(2 * x)\n",
        "\n",
        "print(f_x)"
      ]
    },
    {
      "cell_type": "markdown",
      "metadata": {
        "id": "5DzFkKwx0VI5"
      },
      "source": [
        "## Pandas\n",
        "\n",
        "We will be working on the classic dataset for beginner data scientists: Titanic passengers."
      ]
    },
    {
      "cell_type": "markdown",
      "metadata": {
        "id": "nP0LlORsy7z4"
      },
      "source": [
        "### Task 7\n",
        "\n",
        "Load the dataset from the following URL: https://web.stanford.edu/class/cs102/datasets/Titanic.csv"
      ]
    },
    {
      "cell_type": "code",
      "execution_count": 20,
      "metadata": {
        "id": "RiIm_kUSy7z4",
        "tags": [
          "task_7"
        ]
      },
      "outputs": [],
      "source": [
        "df = pd.read_csv(\"https://web.stanford.edu/class/cs102/datasets/Titanic.csv\")"
      ]
    },
    {
      "cell_type": "markdown",
      "metadata": {
        "id": "hU1yDEnzy7z4"
      },
      "source": [
        "### Task 8\n",
        "\n",
        "Let's see the series/columns present in the data frame.\n",
        "\n",
        "Also, let's inspect the first ten rows of data."
      ]
    },
    {
      "cell_type": "code",
      "execution_count": 21,
      "metadata": {
        "id": "8sOSsdKiy7z4",
        "tags": [
          "task_8a"
        ],
        "colab": {
          "base_uri": "https://localhost:8080/"
        },
        "outputId": "e847077f-06f3-42b3-bad4-cb51c7d442a1"
      },
      "outputs": [
        {
          "output_type": "stream",
          "name": "stdout",
          "text": [
            "Index(['last', 'first', 'gender', 'age', 'class', 'fare', 'embarked',\n",
            "       'survived'],\n",
            "      dtype='object')\n"
          ]
        }
      ],
      "source": [
        "print(df.columns)"
      ]
    },
    {
      "cell_type": "code",
      "execution_count": 22,
      "metadata": {
        "tags": [
          "task_8b"
        ],
        "id": "L1d6Yscd6lVu",
        "colab": {
          "base_uri": "https://localhost:8080/"
        },
        "outputId": "bf4c2f01-7f93-4f20-8d3a-7a4f456b97a3"
      },
      "outputs": [
        {
          "output_type": "stream",
          "name": "stdout",
          "text": [
            "        last                                       first gender   age  class  \\\n",
            "0     Braund                             Mr. Owen Harris      M  22.0      3   \n",
            "1    Cumings  Mrs. John Bradley (Florence Briggs Thayer)      F  38.0      1   \n",
            "2  Heikkinen                                  Miss Laina      F  26.0      3   \n",
            "3   Futrelle          Mrs. Jacques Heath (Lily May Peel)      F  35.0      1   \n",
            "4      Allen                           Mr. William Henry      M  35.0      3   \n",
            "5      Moran                                   Mr. James      M   NaN      3   \n",
            "6   McCarthy                               Mr. Timothy J      M  54.0      1   \n",
            "7    Palsson                        Master Gosta Leonard      M   2.0      3   \n",
            "8    Johnson    Mrs. Oscar W (Elisabeth Vilhelmina Berg)      F  27.0      3   \n",
            "9     Nasser                 Mrs. Nicholas (Adele Achem)      F  14.0      2   \n",
            "\n",
            "      fare     embarked survived  \n",
            "0   7.2500  Southampton       no  \n",
            "1  71.2833    Cherbourg      yes  \n",
            "2   7.9250  Southampton      yes  \n",
            "3  53.1000  Southampton      yes  \n",
            "4   8.0500  Southampton       no  \n",
            "5   8.4583   Queenstown       no  \n",
            "6  51.8625  Southampton       no  \n",
            "7  21.0750  Southampton       no  \n",
            "8  11.1333  Southampton      yes  \n",
            "9  30.0708    Cherbourg      yes  \n"
          ]
        }
      ],
      "source": [
        "print(df.head(10))"
      ]
    },
    {
      "cell_type": "markdown",
      "metadata": {
        "id": "NbbRIcyqy7z4"
      },
      "source": [
        "### Task 9\n",
        "\n",
        "Add a new column - full name - it should be a concat of the first and last name."
      ]
    },
    {
      "cell_type": "code",
      "execution_count": 26,
      "metadata": {
        "tags": [
          "task_9"
        ],
        "id": "DJcQPHU36lVv",
        "colab": {
          "base_uri": "https://localhost:8080/"
        },
        "outputId": "b4d053ba-aefb-4ab3-bb39-6f5bc063c34e"
      },
      "outputs": [
        {
          "output_type": "stream",
          "name": "stdout",
          "text": [
            "        last                                       first gender   age  class  \\\n",
            "0     Braund                             Mr. Owen Harris      M  22.0      3   \n",
            "1    Cumings  Mrs. John Bradley (Florence Briggs Thayer)      F  38.0      1   \n",
            "2  Heikkinen                                  Miss Laina      F  26.0      3   \n",
            "3   Futrelle          Mrs. Jacques Heath (Lily May Peel)      F  35.0      1   \n",
            "4      Allen                           Mr. William Henry      M  35.0      3   \n",
            "\n",
            "      fare     embarked survived  \\\n",
            "0   7.2500  Southampton       no   \n",
            "1  71.2833    Cherbourg      yes   \n",
            "2   7.9250  Southampton      yes   \n",
            "3  53.1000  Southampton      yes   \n",
            "4   8.0500  Southampton       no   \n",
            "\n",
            "                                           full name  \n",
            "0                             Mr. Owen Harris Braund  \n",
            "1  Mrs. John Bradley (Florence Briggs Thayer) Cum...  \n",
            "2                               Miss Laina Heikkinen  \n",
            "3        Mrs. Jacques Heath (Lily May Peel) Futrelle  \n",
            "4                            Mr. William Henry Allen  \n"
          ]
        }
      ],
      "source": [
        "df['full name'] = df['first'] + ' ' + df['last']\n",
        "print(df.head())"
      ]
    },
    {
      "cell_type": "markdown",
      "metadata": {
        "id": "UvRSBhXi6lVw"
      },
      "source": [
        "### Task 10\n",
        "\n",
        "Remove the two original columns - last, first."
      ]
    },
    {
      "cell_type": "code",
      "execution_count": 27,
      "metadata": {
        "id": "2K8klEkzy7z4",
        "tags": [
          "task_10"
        ]
      },
      "outputs": [],
      "source": [
        "df = df.drop(['first', 'last'], axis=1)"
      ]
    },
    {
      "cell_type": "markdown",
      "metadata": {
        "id": "A431RdWp6lVw"
      },
      "source": [
        "### Task 11\n",
        "\n",
        "Calculate the total number of survivors in the dataset."
      ]
    },
    {
      "cell_type": "code",
      "execution_count": 31,
      "metadata": {
        "tags": [
          "task_11"
        ],
        "id": "meTLWpz46lVx",
        "colab": {
          "base_uri": "https://localhost:8080/"
        },
        "outputId": "ed12ccae-bf55-4bd7-882d-37ba28574588"
      },
      "outputs": [
        {
          "output_type": "stream",
          "name": "stdout",
          "text": [
            "342\n"
          ]
        }
      ],
      "source": [
        "df['survived'] = df['survived'].map({'yes': 1, 'no': 0})\n",
        "total = df['survived'].sum()\n",
        "print(total)"
      ]
    }
  ],
  "metadata": {
    "colab": {
      "provenance": [],
      "toc_visible": true
    },
    "kernelspec": {
      "display_name": "venv",
      "language": "python",
      "name": "python3"
    },
    "language_info": {
      "codemirror_mode": {
        "name": "ipython",
        "version": 3
      },
      "file_extension": ".py",
      "mimetype": "text/x-python",
      "name": "python",
      "nbconvert_exporter": "python",
      "pygments_lexer": "ipython3",
      "version": "3.9.6"
    },
    "orig_nbformat": 4
  },
  "nbformat": 4,
  "nbformat_minor": 0
}