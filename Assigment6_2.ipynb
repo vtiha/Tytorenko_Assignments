{
  "cells": [
    {
      "cell_type": "markdown",
      "metadata": {
        "id": "view-in-github",
        "colab_type": "text"
      },
      "source": [
        "<a href=\"https://colab.research.google.com/github/vtiha/Tytorenko_Assignments/blob/main/Assigment6_2.ipynb\" target=\"_parent\"><img src=\"https://colab.research.google.com/assets/colab-badge.svg\" alt=\"Open In Colab\"/></a>"
      ]
    },
    {
      "cell_type": "markdown",
      "metadata": {
        "id": "M6zcdCHyL9Pu"
      },
      "source": [
        "1. Write a decorator that ensures a function is only called by users with a specific role. Each function should have an user_type with a string type in kwargs."
      ]
    },
    {
      "cell_type": "code",
      "execution_count": null,
      "metadata": {
        "id": "YCjBJpSDL9Pw",
        "outputId": "0f3f4486-dea4-484b-851d-14b01bd56c9f"
      },
      "outputs": [
        {
          "name": "stdout",
          "output_type": "stream",
          "text": [
            "Permission denied\n",
            "Information is available\n"
          ]
        }
      ],
      "source": [
        "def is_admin(func):\n",
        "    def wrapper(*args, **kwargs):\n",
        "        try:\n",
        "            user_type = kwargs.get('user_type')\n",
        "            if user_type == 'admin':\n",
        "                return func(*args, **kwargs)\n",
        "            else:\n",
        "                raise ValueError('Permission denied')\n",
        "        except ValueError as e:\n",
        "            print(e)\n",
        "    return wrapper\n",
        "\n",
        "@is_admin\n",
        "def show_customer_receipt(user_type: str):\n",
        "    print('Information is available')\n",
        "\n",
        "show_customer_receipt(user_type='user')\n",
        "show_customer_receipt(user_type='admin')"
      ]
    },
    {
      "cell_type": "markdown",
      "metadata": {
        "id": "kvuGuU-TL9Pz"
      },
      "source": [
        "2. Write a decorator that wraps a function in a try-except block and prints an error if any type of error has happened."
      ]
    },
    {
      "cell_type": "code",
      "execution_count": null,
      "metadata": {
        "id": "Gs3PDR5KL9Pz",
        "outputId": "29bce4da-d5cd-4725-ab93-5b76d4d33901"
      },
      "outputs": [
        {
          "name": "stdout",
          "output_type": "stream",
          "text": [
            "Found 1 error during execution of your function: KeyError\n",
            "bar\n"
          ]
        }
      ],
      "source": [
        "def catch_errors(func):\n",
        "    def wrapper(*args, **kwargs):\n",
        "        try:\n",
        "            return func(*args, **kwargs)\n",
        "        except Exception as e:\n",
        "            print(f'Found 1 error during execution of your function: {type(e).__name__}')\n",
        "    return wrapper\n",
        "\n",
        "@catch_errors\n",
        "def some_function_with_risky_operation(data):\n",
        "    print(data['key'])\n",
        "\n",
        "some_function_with_risky_operation({'foo':'bar'})\n",
        "some_function_with_risky_operation({'key':'bar'})"
      ]
    },
    {
      "cell_type": "markdown",
      "metadata": {
        "id": "W762HmklL9P0"
      },
      "source": [
        "Опціональні завдання зроблю пізніше, бо поки важко дуже з ними розбиратись :("
      ]
    }
  ],
  "metadata": {
    "kernelspec": {
      "display_name": "Python 3",
      "language": "python",
      "name": "python3"
    },
    "language_info": {
      "codemirror_mode": {
        "name": "ipython",
        "version": 3
      },
      "file_extension": ".py",
      "mimetype": "text/x-python",
      "name": "python",
      "nbconvert_exporter": "python",
      "pygments_lexer": "ipython3",
      "version": "3.12.7"
    },
    "colab": {
      "provenance": [],
      "include_colab_link": true
    }
  },
  "nbformat": 4,
  "nbformat_minor": 0
}