{
  "cells": [
    {
      "cell_type": "markdown",
      "metadata": {
        "id": "-89_Z_je0cfL"
      },
      "source": [
        "# Assignment 4.2\n",
        "\n",
        "> Replace all TODOs with your code.\n",
        ">\n",
        "> Do not change any other code and do not add/remove cells!"
      ]
    },
    {
      "cell_type": "code",
      "execution_count": null,
      "metadata": {
        "id": "4Zt3Ez5bCm1Q"
      },
      "outputs": [],
      "source": [
        "# Do not edit this cell\n",
        "\n",
        "from typing import List, Tuple"
      ]
    },
    {
      "cell_type": "markdown",
      "metadata": {
        "id": "w6E-GxTB0j4M"
      },
      "source": [
        "## Complexity"
      ]
    },
    {
      "cell_type": "markdown",
      "metadata": {
        "id": "iEwuf_DP0cfM"
      },
      "source": [
        "### Task 1\n",
        "\n",
        "For example, let's take a simple problem - find a maximum element in an input list. We know that the list is sorted in ascending order.\n",
        "\n",
        "Write a function `find_max(li: List[int]) -> int` that would return a maximum element of a sorted list `li`. You can assume `li` to be non-empty. As a last command of your cell, print the complexity of your algorithm. It should be one of:\n",
        "\n",
        "`{O(1), O(log n), O(n), O(nlog n), O(n^2), O(2^n)}`.\n",
        "\n",
        "Note: do not use `max` built-in function."
      ]
    },
    {
      "cell_type": "code",
      "execution_count": null,
      "metadata": {
        "id": "IWVOCWxx0cfM",
        "tags": [
          "task_1"
        ],
        "colab": {
          "base_uri": "https://localhost:8080/"
        },
        "outputId": "e577c2a3-7f84-4ea5-d146-0741e6326c60"
      },
      "outputs": [
        {
          "output_type": "stream",
          "name": "stdout",
          "text": [
            "Обчислювальна складність дорівнює О(1), оскільки взяття елемента за індексом займає 1 крок, так як зрозуміло, що у відсортованомуу списку максимальним числом буде останнє\n"
          ]
        }
      ],
      "source": [
        "def find_max(li: List[int]) -> int:\n",
        "\n",
        "    return li[-1]\n",
        "\n",
        "print('Обчислювальна складність дорівнює О(1), оскільки взяття елемента за індексом займає 1 крок, так як зрозуміло, що у відсортованомуу списку максимальним числом буде останнє')"
      ]
    },
    {
      "cell_type": "markdown",
      "metadata": {
        "id": "2z8HqsaK0cfN"
      },
      "source": [
        "### Task 2\n",
        "\n",
        "The same problem, now we don't know anything about the order in `li`. What's the complexity then? Print it as the last command of the cell.\n",
        "\n",
        "Note: do not use `max` built-in function.\n"
      ]
    },
    {
      "cell_type": "code",
      "execution_count": null,
      "metadata": {
        "id": "kva_9ycA0cfN",
        "tags": [
          "task_2"
        ],
        "colab": {
          "base_uri": "https://localhost:8080/"
        },
        "outputId": "be509d75-6432-4d6c-f65d-0dcc3a1bf9be"
      },
      "outputs": [
        {
          "output_type": "stream",
          "name": "stdout",
          "text": [
            "Обчислювальна складність коду дорівнює O(1)(ініціалізація змінної і присвоєння їй числа за індексом)+O(n)(перебирання елементів в циклі)=O(n)\n"
          ]
        }
      ],
      "source": [
        "def find_max(li: List[int]) -> int:\n",
        "\n",
        "  max=li[0]\n",
        "\n",
        "  for i in li:\n",
        "    if i>max:\n",
        "      max = i\n",
        "\n",
        "  return max\n",
        "\n",
        "print(\"Обчислювальна складність коду дорівнює O(1)(ініціалізація змінної і присвоєння їй числа за індексом)+O(n)(перебирання елементів в циклі)=O(n)\")"
      ]
    },
    {
      "cell_type": "markdown",
      "metadata": {
        "id": "IqjW7SGS0cfN"
      },
      "source": [
        "### Task 3\n",
        "\n",
        "Now we are playing the guessing game! The user guesses the number between 1 and `n`, and your program makes guesses. If the guess is higher than the initial number, the user enters '<', if the number is lower - '>'. If the guess is correct, a user enters 'bingo'.\n",
        "\n",
        "Implement the program to play the game. As a last command of your cell, print the complexity of your algorithm (or the worst-case number of guesses your program needs to make before the correct guess). It should be one of:\n",
        "\n",
        "`{O(1), O(log n), O(n), O(nlog n), O(n^2), O(2^n)}`."
      ]
    },
    {
      "cell_type": "code",
      "execution_count": 2,
      "metadata": {
        "id": "p83RQvA40cfN",
        "tags": [
          "task_3"
        ],
        "colab": {
          "base_uri": "https://localhost:8080/"
        },
        "outputId": "0ecff116-cf6e-4c63-def1-b9a100bdc5ea"
      },
      "outputs": [
        {
          "output_type": "stream",
          "name": "stdout",
          "text": [
            "50, це ваше число?>\n",
            "75, це ваше число?>\n",
            "88, це ваше число?>\n",
            "94, це ваше число?>\n",
            "97, це ваше число?>\n",
            "99, це ваше число?>\n",
            "100, це ваше число?bingo\n",
            "\n",
            "\n",
            "Максимальна кількість операцій для вгадування числа дорівнює 7 (при n = 100) при використанні середнього арифметичного, обчислювальна складність O(log n)\n"
          ]
        }
      ],
      "source": [
        "n = 100\n",
        "\n",
        "a = 1\n",
        "b = n\n",
        "\n",
        "while a<=b:\n",
        "  some_number = (a+b)//2\n",
        "  feedback = input(f'{some_number}, це ваше число?')\n",
        "  if feedback == 'bingo':\n",
        "    break\n",
        "  elif feedback == '>':\n",
        "    a = some_number+1\n",
        "  elif feedback == '<':\n",
        "    b = some_number - 1\n",
        "  some_number = (a+b)//2\n",
        "\n",
        "print('\\n')\n",
        "\n",
        "print('Максимальна кількість операцій для вгадування числа дорівнює 7 (при n = 100) при використанні середнього арифметичного, обчислювальна складність O(log n)')\n"
      ]
    }
  ],
  "metadata": {
    "colab": {
      "provenance": []
    },
    "kernelspec": {
      "display_name": "venv",
      "language": "python",
      "name": "python3"
    },
    "language_info": {
      "codemirror_mode": {
        "name": "ipython",
        "version": 3
      },
      "file_extension": ".py",
      "mimetype": "text/x-python",
      "name": "python",
      "nbconvert_exporter": "python",
      "pygments_lexer": "ipython3",
      "version": "3.11.5"
    },
    "orig_nbformat": 4
  },
  "nbformat": 4,
  "nbformat_minor": 0
}