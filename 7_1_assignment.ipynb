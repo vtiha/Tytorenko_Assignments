{
  "cells": [
    {
      "cell_type": "markdown",
      "metadata": {
        "id": "view-in-github",
        "colab_type": "text"
      },
      "source": [
        "<a href=\"https://colab.research.google.com/github/vtiha/Tytorenko_Assignments/blob/main/7_1_assignment.ipynb\" target=\"_parent\"><img src=\"https://colab.research.google.com/assets/colab-badge.svg\" alt=\"Open In Colab\"/></a>"
      ]
    },
    {
      "cell_type": "markdown",
      "metadata": {
        "id": "K-xXkt9Ztf7J"
      },
      "source": [
        "# Assignment 7.1\n",
        "\n",
        "> Replace all TODOs with your code.\n",
        ">\n",
        "> Do not change any other code and do not add/remove cells!"
      ]
    },
    {
      "cell_type": "code",
      "execution_count": null,
      "metadata": {
        "id": "sGdc6BbbALg9"
      },
      "outputs": [],
      "source": [
        "# Do not edit this cell\n",
        "\n",
        "from typing import List, Dict"
      ]
    },
    {
      "cell_type": "markdown",
      "metadata": {
        "id": "cfhcjaX0vXXa"
      },
      "source": [
        "## Clients"
      ]
    },
    {
      "cell_type": "markdown",
      "metadata": {
        "id": "Vlz14hyr6wV6"
      },
      "source": [
        "### Task 1\n",
        "\n",
        "Write a function that takes a GitHub repository name as input and uses the [GitHub Repository API](https://docs.github.com/en/rest/repos) to retrieve and return information about the specified repository, including:\n",
        "\n",
        "* Repository Name\n",
        "* Owner\n",
        "* Description\n",
        "* License (if available)\n",
        "* Creation Date\n",
        "\n",
        "Use the `requests` module for this task."
      ]
    },
    {
      "cell_type": "code",
      "execution_count": 19,
      "metadata": {
        "id": "vDYn-dRb7xIX",
        "colab": {
          "base_uri": "https://localhost:8080/"
        },
        "outputId": "8afb371c-1254-49d6-b942-d9f46df5ebee"
      },
      "outputs": [
        {
          "output_type": "execute_result",
          "data": {
            "text/plain": [
              "{'Repository Name': 'milestone_6',\n",
              " 'Owner': 'vtiha',\n",
              " 'Description': None,\n",
              " 'License': 'No license',\n",
              " 'Creation Date': '2024-10-21T17:10:58Z'}"
            ]
          },
          "metadata": {},
          "execution_count": 19
        }
      ],
      "source": [
        "from typing import Dict\n",
        "import requests\n",
        "\n",
        "def get_repository_info(repo_name: str) -> Dict[str, str]:\n",
        "\n",
        "    response = requests.get(f'https://api.github.com/repos/{repo_name}')\n",
        "\n",
        "    if response.status_code == 200:\n",
        "        data = response.json()\n",
        "        repo_info = {\n",
        "            'Repository Name': data.get('name'),\n",
        "            'Owner': data.get('owner', {}).get('login'),\n",
        "            'Description': data.get('description'),\n",
        "            'License': data.get('license', {}).get('name') if data.get('license') else 'No license',\n",
        "            'Creation Date': data.get('created_at'),\n",
        "        }\n",
        "\n",
        "        return repo_info\n",
        "    else:\n",
        "        return f'Error: Repository \"{repo_name}\" not found or API limit exceeded.'#коли мій репозиторій приватний, то б'є цю помилку\n",
        "\n",
        "get_repository_info('octocat/Hello-World')\n",
        "get_repository_info('vtiha/milestone_6') #зробила свій репозиторій публічним, щоб протестувати, вийшло :)"
      ]
    },
    {
      "cell_type": "markdown",
      "metadata": {
        "id": "0TC34gv79VEo"
      },
      "source": [
        "### Task 2\n",
        "\n",
        "Write a function that takes a GitHub repository name and uses the [GitHub Commits API](https://docs.github.com/en/rest/commits/commits) to retrieve and return information about the five most recent commits in a selected GitHub repository, including:\n",
        "* Commit Message\n",
        "* Author\n",
        "* Date\n",
        "* Link to the commit on GitHub\n",
        "\n",
        "Use the `requests` module for this task."
      ]
    },
    {
      "cell_type": "code",
      "execution_count": 18,
      "metadata": {
        "id": "Kf2284dT-atu",
        "colab": {
          "base_uri": "https://localhost:8080/"
        },
        "outputId": "457bdafc-bb85-4550-b52a-1a33a2c2d750"
      },
      "outputs": [
        {
          "output_type": "execute_result",
          "data": {
            "text/plain": [
              "[{'Commit Message': 'Add information about all files',\n",
              "  'Author': 'vtiha',\n",
              "  'Date': '2024-10-21T18:31:40Z',\n",
              "  'Link': 'https://github.com/vtiha/milestone_6/commit/8109b9e358f529ad89f3c4b5597a7709050ecf9c'},\n",
              " {'Commit Message': 'Помилково створила папку з назвою файлу і коли намагалась видалити папку, видалився файл і довелось переробляти',\n",
              "  'Author': 'vtiha',\n",
              "  'Date': '2024-10-21T17:59:26Z',\n",
              "  'Link': 'https://github.com/vtiha/milestone_6/commit/60ea26a6d456765f81e3f0648c2f6b979e69524f'},\n",
              " {'Commit Message': 'Add homework file to milestone_1 again',\n",
              "  'Author': 'vtiha',\n",
              "  'Date': '2024-10-21T17:58:36Z',\n",
              "  'Link': 'https://github.com/vtiha/milestone_6/commit/fcda71584b6d6b8f38e8d20a8d91b42a54ede814'},\n",
              " {'Commit Message': 'Add homework files generate_data.ipynb and report.ipynb to Milestone_5',\n",
              "  'Author': 'vtiha',\n",
              "  'Date': '2024-10-21T17:32:49Z',\n",
              "  'Link': 'https://github.com/vtiha/milestone_6/commit/0c6b290ca2fb4d824cc1dfeaaada28609017b34a'},\n",
              " {'Commit Message': 'Add homework file complexity.ipynb to Milestone_4',\n",
              "  'Author': 'vtiha',\n",
              "  'Date': '2024-10-21T17:31:11Z',\n",
              "  'Link': 'https://github.com/vtiha/milestone_6/commit/ac6f4adb01f1775a27c6b67f71b4408dff870860'}]"
            ]
          },
          "metadata": {},
          "execution_count": 18
        }
      ],
      "source": [
        "from typing import Dict, List\n",
        "import requests\n",
        "\n",
        "def get_recent_commits(repo_name: str) -> List[Dict[str, str]]:\n",
        "\n",
        "    response = requests.get(f'https://api.github.com/repos/{repo_name}/commits')\n",
        "\n",
        "    if response.status_code == 200:\n",
        "        data = response.json()\n",
        "\n",
        "        commits_info = []\n",
        "        for commit in data[:5]:\n",
        "            commit_info = {\n",
        "                'Commit Message': commit.get('commit', {}).get('message'),\n",
        "                'Author': commit.get('commit', {}).get('author', {}).get('name'),\n",
        "                'Date': commit.get('commit', {}).get('author', {}).get('date'),\n",
        "                'Link': commit.get('html_url'),\n",
        "            }\n",
        "            commits_info.append(commit_info)\n",
        "\n",
        "        return commits_info\n",
        "    else:\n",
        "        return f'Error: Unable to retrieve commits for \"{repo_name}\". Status code: {response.status_code}'\n",
        "\n",
        "get_recent_commits('octocat/Hello-World')\n",
        "get_recent_commits('vtiha/milestone_6') #останній мій коміт мені не подобається, але теж все спрацювало і на моєму репозиторію"
      ]
    }
  ],
  "metadata": {
    "colab": {
      "provenance": [],
      "include_colab_link": true
    },
    "kernelspec": {
      "display_name": "Python 3",
      "name": "python3"
    },
    "language_info": {
      "name": "python"
    }
  },
  "nbformat": 4,
  "nbformat_minor": 0
}